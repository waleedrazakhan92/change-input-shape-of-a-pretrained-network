{
  "nbformat": 4,
  "nbformat_minor": 0,
  "metadata": {
    "colab": {
      "name": "change_input_size_pretrained.ipynb",
      "provenance": [],
      "collapsed_sections": []
    },
    "kernelspec": {
      "name": "python3",
      "display_name": "Python 3"
    },
    "accelerator": "GPU"
  },
  "cells": [
    {
      "cell_type": "code",
      "metadata": {
        "id": "zb-uScNLcHBl",
        "colab_type": "code",
        "colab": {
          "base_uri": "https://localhost:8080/",
          "height": 228
        },
        "outputId": "f82e9229-10d6-4354-b1c5-2c5f6ff26c1b"
      },
      "source": [
        "# kaggle cats n dogs dataset\n",
        "# https://www.kaggle.com/chetankv/dogs-cats-images?\n",
        "!wget -O 'dataset' 'https://storage.googleapis.com/kaggle-data-sets/22535%2F28903%2Fbundle%2Farchive.zip?GoogleAccessId=gcp-kaggle-com@kaggle-161607.iam.gserviceaccount.com&Expires=1597926548&Signature=HOJaYq0f8svILz%2FF5zbi8cLTP%2F7PfIVMnHm65mfFK2KKBSrCndPmh3vbx5%2BuoAanCNNzDELDcsi%2BUlZLgu0Ao110LRZiosDCoNbYDfCBXx7pcadSAYaEuL6SSuQV2HzkGOMjesuFYvUO99S7aI1XBgfw3R4zvQfRULRC4dyRBbfNIh871cnqLdQ%2FLrp%2Bp%2FJn%2BTm8Toas7sqzKuXxgpp%2BIqkPe7MLcnff6Jz%2FAO0sbMgSRysv0BjwhoGG5eKSTh8%2BD2tRhCBOJeEVlnwxzW8NtuKNR%2FwNF%2BThh56SRbLMZxmF0hCBEm6ME5BuDxYqy1c3A4ZXFheKPdYLbnAPvQz6hw%3D%3D'"
      ],
      "execution_count": null,
      "outputs": [
        {
          "output_type": "stream",
          "text": [
            "--2020-08-17 12:29:59--  https://storage.googleapis.com/kaggle-data-sets/22535%2F28903%2Fbundle%2Farchive.zip?GoogleAccessId=gcp-kaggle-com@kaggle-161607.iam.gserviceaccount.com&Expires=1597926548&Signature=HOJaYq0f8svILz%2FF5zbi8cLTP%2F7PfIVMnHm65mfFK2KKBSrCndPmh3vbx5%2BuoAanCNNzDELDcsi%2BUlZLgu0Ao110LRZiosDCoNbYDfCBXx7pcadSAYaEuL6SSuQV2HzkGOMjesuFYvUO99S7aI1XBgfw3R4zvQfRULRC4dyRBbfNIh871cnqLdQ%2FLrp%2Bp%2FJn%2BTm8Toas7sqzKuXxgpp%2BIqkPe7MLcnff6Jz%2FAO0sbMgSRysv0BjwhoGG5eKSTh8%2BD2tRhCBOJeEVlnwxzW8NtuKNR%2FwNF%2BThh56SRbLMZxmF0hCBEm6ME5BuDxYqy1c3A4ZXFheKPdYLbnAPvQz6hw%3D%3D\n",
            "Resolving storage.googleapis.com (storage.googleapis.com)... 74.125.133.128, 74.125.140.128, 173.194.76.128, ...\n",
            "Connecting to storage.googleapis.com (storage.googleapis.com)|74.125.133.128|:443... connected.\n",
            "HTTP request sent, awaiting response... 200 OK\n",
            "Length: 455718914 (435M) [application/zip]\n",
            "Saving to: ‘dataset’\n",
            "\n",
            "dataset             100%[===================>] 434.61M  35.5MB/s    in 15s     \n",
            "\n",
            "2020-08-17 12:30:15 (28.9 MB/s) - ‘dataset’ saved [455718914/455718914]\n",
            "\n"
          ],
          "name": "stdout"
        }
      ]
    },
    {
      "cell_type": "code",
      "metadata": {
        "id": "wbgKW1aCcJmk",
        "colab_type": "code",
        "colab": {}
      },
      "source": [
        "src_zip = 'dataset'\n",
        "cpy_zip = 'dataset_folder/' \n",
        "\n",
        "import zipfile\n",
        "with zipfile.ZipFile(src_zip, 'r') as zip_ref:\n",
        "    zip_ref.extractall(cpy_zip)\n"
      ],
      "execution_count": null,
      "outputs": []
    },
    {
      "cell_type": "code",
      "metadata": {
        "id": "0fddotSwcLwo",
        "colab_type": "code",
        "colab": {}
      },
      "source": [
        "import os\n",
        "import cv2\n",
        "import matplotlib.pyplot as plt\n",
        "import numpy as np\n",
        "from glob import glob\n",
        "import random\n",
        "\n",
        "from keras.utils.np_utils import to_categorical\n"
      ],
      "execution_count": null,
      "outputs": []
    },
    {
      "cell_type": "code",
      "metadata": {
        "id": "ZdY2MVQAcN4n",
        "colab_type": "code",
        "colab": {}
      },
      "source": [
        "def make_lab_dict(path_dataset):\n",
        "    folders = os.listdir(path_dataset)\n",
        "    folders = np.sort(folders)  \n",
        "    labs = list(range(0,len(folders)))\n",
        "    lab_dict = dict(zip(folders, labs))\n",
        "    \n",
        "    return lab_dict\n",
        "\n",
        "def get_paths(path_dataset):\n",
        "    all_paths = glob(path_dataset+'/'+'*'+'/'+'*')\n",
        "    return all_paths"
      ],
      "execution_count": null,
      "outputs": []
    },
    {
      "cell_type": "code",
      "metadata": {
        "id": "GDqjGnF-cQIj",
        "colab_type": "code",
        "colab": {}
      },
      "source": [
        "def my_datagen(path_dataset, lab_dict, batch_size=64, out_shape=(128,128,3)):\n",
        "    \n",
        "    while True: \n",
        "        all_paths = get_paths(path_dataset)\n",
        "        selected_paths = random.sample(all_paths, batch_size)\n",
        "        \n",
        "        batch_images = []\n",
        "        batch_labels = []\n",
        "\n",
        "        for i in range(0,len(selected_paths)):\n",
        "            img = cv2.imread(selected_paths[i])\n",
        "            img = cv2.resize(img,(out_shape[0],out_shape[1]))\n",
        "\n",
        "            img_category = selected_paths[i].split('/')[-2]\n",
        "            lab = lab_dict[img_category]\n",
        "            lab = to_categorical(lab, num_classes=2)\n",
        "            # print(img_category)\n",
        "            # print(lab)\n",
        "\n",
        "            batch_images.append(img)\n",
        "            batch_labels.append(lab)\n",
        "        \n",
        "        yield np.array(batch_images)/255, np.array(batch_labels)"
      ],
      "execution_count": null,
      "outputs": []
    },
    {
      "cell_type": "code",
      "metadata": {
        "id": "3OBAJUbJegRJ",
        "colab_type": "code",
        "colab": {}
      },
      "source": [
        "from tensorflow.keras.layers import *\n",
        "from tensorflow.keras.models import Model\n",
        "from tensorflow.keras.callbacks import ModelCheckpoint\n",
        "\n",
        "import tensorflow as tf"
      ],
      "execution_count": null,
      "outputs": []
    },
    {
      "cell_type": "code",
      "metadata": {
        "id": "bCgcHZzhfKYU",
        "colab_type": "code",
        "colab": {}
      },
      "source": [
        "def build_model(input_shape = (128,128,3)):\n",
        "        \n",
        "    k_size = 3\n",
        "    filters = 32\n",
        "    strides = 2\n",
        "    pad = 'same'\n",
        "    acti = 'relu'\n",
        "    \n",
        "\n",
        "    inp_model = Input(shape=(input_shape))\n",
        "    l1 = Conv2D(filters=filters, kernel_size=k_size, strides=strides, padding=pad, activation=acti)(inp_model)\n",
        "    l2 = Conv2D(filters=filters*2, kernel_size=k_size, strides=strides, padding=pad, activation=acti)(l1)\n",
        "    l3 = Conv2D(filters=filters*4, kernel_size=k_size, strides=strides, padding=pad, activation=acti)(l2)\n",
        "    l4 = Conv2D(filters=filters*4, kernel_size=k_size, strides=strides, padding=pad, activation=acti)(l3)\n",
        "\n",
        "    f1 = Flatten()(l4)\n",
        "    c1 = Dense(256, activation= acti)(f1)\n",
        "    c2 = Dense(2, activation = 'softmax')(c1)\n",
        "    model = Model(inp_model, c2)\n",
        "\n",
        "    return model"
      ],
      "execution_count": null,
      "outputs": []
    },
    {
      "cell_type": "code",
      "metadata": {
        "id": "ladNsgAxi1xJ",
        "colab_type": "code",
        "colab": {}
      },
      "source": [
        "def init_model(model_name='my_model', path_ckpt='checkpoint/'):\n",
        "    complete_path = path_ckpt+model_name+'.h5'\n",
        "\n",
        "    model = build_model()\n",
        "       \n",
        "    if not os.path.isdir(path_ckpt):\n",
        "        os.mkdir(path_ckpt)\n",
        "\n",
        "    names = os.listdir(path_ckpt)\n",
        "    if complete_path.split('/')[-1] in names:\n",
        "        print('Loading checkpoint...')\n",
        "        model.load_weights(complete_path)\n",
        "    else:\n",
        "        print('Training from scratch')\n",
        "\n",
        "    return model, complete_path\n",
        "\n",
        "    "
      ],
      "execution_count": null,
      "outputs": []
    },
    {
      "cell_type": "code",
      "metadata": {
        "id": "zSU9byCkje1V",
        "colab_type": "code",
        "colab": {}
      },
      "source": [
        "def train_model(path_dataset, batch_size=64, epochs=2):\n",
        "    model, checkpoint_path = init_model()\n",
        "    \n",
        "    checkpoint=ModelCheckpoint(filepath=checkpoint_path,monitor='loss',save_best_only=True,\n",
        "                           save_weights_only=False,verbose=0,mode=\"auto\")\n",
        "    \n",
        "    # checkpoint = ModelCheckpoint(filepath=checkpoint_path, monitor='loss', save_best_only=False, \n",
        "    #                              save_weights_only=False, mode='auto', period=2)\n",
        "\n",
        "    callbacks=[checkpoint]\n",
        "    print('learning rate = ',learn_rate)\n",
        "    opt = tf.keras.optimizers.Adam(lr = learn_rate)\n",
        "    \n",
        "    model.compile(optimizer=opt,loss=\"categorical_crossentropy\")\n",
        "\n",
        "    lab_dict = make_lab_dict(path_dataset)\n",
        "    print(lab_dict)\n",
        "    print(model.summary())\n",
        "    data_size = len(get_paths(path_dataset))\n",
        "\n",
        "    #train_gen = my_datagen(path_dataset, lab_dict, batch_size=batch_size)\n",
        "    #model.fit_generator(train_gen, epochs=epochs, callbacks = callbacks,steps_per_epoch=int(data_size/batch_size))\n",
        "\n",
        "    x_train,y_train = next(my_datagen(path_dataset, lab_dict, batch_size=2000))\n",
        "    model.fit(x_train,y_train, batch_size=batch_size, epochs=epochs, callbacks = callbacks)\n",
        "\n",
        "\n",
        "    # save trained model\n",
        "    #model.save('checkpoint/' + 'trained_model.h5')\n"
      ],
      "execution_count": null,
      "outputs": []
    },
    {
      "cell_type": "code",
      "metadata": {
        "id": "Y6sioccqj5zf",
        "colab_type": "code",
        "colab": {}
      },
      "source": [
        "global learn_rate\n",
        "learn_rate = 0.0001\n",
        "\n",
        "batch_size = 512\n",
        "input_shape = (128,128,3)\n",
        "path_dataset = 'dataset_folder/dataset/test_set/'"
      ],
      "execution_count": null,
      "outputs": []
    },
    {
      "cell_type": "code",
      "metadata": {
        "id": "K0V-bG5ZjyDm",
        "colab_type": "code",
        "colab": {}
      },
      "source": [
        "##train_model(path_dataset, batch_size, 200)\n"
      ],
      "execution_count": null,
      "outputs": []
    },
    {
      "cell_type": "code",
      "metadata": {
        "id": "Kz_ppg-grP8m",
        "colab_type": "code",
        "colab": {}
      },
      "source": [
        "###!cp '/content/checkpoint/my_model.h5' '/content/drive/My Drive/Colab Notebooks/change_input_size_of_pretrained_network/'"
      ],
      "execution_count": null,
      "outputs": []
    },
    {
      "cell_type": "code",
      "metadata": {
        "id": "aixsyWJ5roI2",
        "colab_type": "code",
        "colab": {}
      },
      "source": [
        "def inference(path_dataset, batch_size):\n",
        "    lab_dict = make_lab_dict(path_dataset)\n",
        "    x_train,y_train = next(my_datagen(path_dataset, lab_dict, batch_size=batch_size))\n",
        "\n",
        "\n",
        "    model, checkpoint_path = init_model()\n",
        "    model.load_weights('/content/drive/My Drive/Colab Notebooks/change_input_size_of_pretrained_network/my_model.h5')\n",
        "\n",
        "    correct_preds = 0\n",
        "\n",
        "    preds_all = []\n",
        "    for i in range(0,batch_size):\n",
        "        img = x_train[i]\n",
        "        img = np.expand_dims(img, axis=0)\n",
        "\n",
        "        lab_org = np.argmax(y_train[i])\n",
        "        \n",
        "        pred = model.predict(img).squeeze()\n",
        "        lab_pred = np.argmax(pred)\n",
        "\n",
        "        preds_all.append(lab_pred)\n",
        "\n",
        "        print('---------------------------------------')\n",
        "        print(i, '-->', 'original label = ',lab_org, '--predicted label = ',lab_pred)\n",
        "        print('original ', y_train[i],' --prediction = ',pred)\n",
        "\n",
        "        if lab_org==lab_pred:\n",
        "            correct_preds = correct_preds+1\n",
        "        \n",
        "    print('accuracy = ', (correct_preds*100)/batch_size, ' %')\n",
        "\n",
        "\n"
      ],
      "execution_count": null,
      "outputs": []
    },
    {
      "cell_type": "code",
      "metadata": {
        "id": "6kNcwGb04fUV",
        "colab_type": "code",
        "colab": {}
      },
      "source": [
        "##inference(path_dataset,2000)"
      ],
      "execution_count": null,
      "outputs": []
    },
    {
      "cell_type": "code",
      "metadata": {
        "id": "TNw7cevG8_Xi",
        "colab_type": "code",
        "colab": {}
      },
      "source": [
        "def resized_model(input_shape):\n",
        "\n",
        "    model, checkpoint_path = init_model()\n",
        "    model.load_weights('/content/drive/My Drive/Colab Notebooks/change_input_size_of_pretrained_network/my_model.h5')\n",
        "\n",
        "\n",
        "    new_model = build_model(input_shape=input_shape)\n",
        "    \n",
        "\n",
        "    for i in range(0,len(model.layers)-3):\n",
        "        print('-----------------------------')\n",
        "        print(i)\n",
        "        print(model.layers[i].name)\n",
        "\n",
        "        extracted_weights = model.layers[i].get_weights()\n",
        "        new_model.layers[i].set_weights(extracted_weights)\n",
        "\n",
        "        print(np.shape(extracted_weights))\n",
        "        if i !=0:\n",
        "            print(extracted_weights[0].shape)\n",
        "\n",
        "    return new_model"
      ],
      "execution_count": null,
      "outputs": []
    },
    {
      "cell_type": "code",
      "metadata": {
        "id": "PH4fz-9kAi3U",
        "colab_type": "code",
        "colab": {
          "base_uri": "https://localhost:8080/",
          "height": 451
        },
        "outputId": "dc16e309-2116-405d-b95e-c43220b020c8"
      },
      "source": [
        "new_mod = resized_model(input_shape=(256,256,3))"
      ],
      "execution_count": null,
      "outputs": [
        {
          "output_type": "stream",
          "text": [
            "Training from scratch\n",
            "-----------------------------\n",
            "0\n",
            "input_7\n",
            "(0,)\n",
            "-----------------------------\n",
            "1\n",
            "conv2d_24\n",
            "(2,)\n",
            "(3, 3, 3, 32)\n",
            "-----------------------------\n",
            "2\n",
            "conv2d_25\n",
            "(2,)\n",
            "(3, 3, 32, 64)\n",
            "-----------------------------\n",
            "3\n",
            "conv2d_26\n",
            "(2,)\n",
            "(3, 3, 64, 128)\n",
            "-----------------------------\n",
            "4\n",
            "conv2d_27\n",
            "(2,)\n",
            "(3, 3, 128, 128)\n"
          ],
          "name": "stdout"
        }
      ]
    },
    {
      "cell_type": "code",
      "metadata": {
        "id": "3SEOSW25Awxg",
        "colab_type": "code",
        "colab": {}
      },
      "source": [
        "from tensorflow.keras.applications.vgg16 import VGG16"
      ],
      "execution_count": null,
      "outputs": []
    },
    {
      "cell_type": "code",
      "metadata": {
        "id": "LMO-crwiHjkn",
        "colab_type": "code",
        "colab": {}
      },
      "source": [
        "mm = VGG16(weights = 'imagenet',input_shape=(224,224,3))"
      ],
      "execution_count": null,
      "outputs": []
    },
    {
      "cell_type": "code",
      "metadata": {
        "id": "2KroBWjEHpPI",
        "colab_type": "code",
        "colab": {
          "base_uri": "https://localhost:8080/",
          "height": 953
        },
        "outputId": "a41daba1-aa13-46f1-b5a7-91735ef19af7"
      },
      "source": [
        "mm.summary()"
      ],
      "execution_count": null,
      "outputs": [
        {
          "output_type": "stream",
          "text": [
            "Model: \"vgg16\"\n",
            "_________________________________________________________________\n",
            "Layer (type)                 Output Shape              Param #   \n",
            "=================================================================\n",
            "input_78 (InputLayer)        [(None, 224, 224, 3)]     0         \n",
            "_________________________________________________________________\n",
            "block1_conv1 (Conv2D)        (None, 224, 224, 64)      1792      \n",
            "_________________________________________________________________\n",
            "block1_conv2 (Conv2D)        (None, 224, 224, 64)      36928     \n",
            "_________________________________________________________________\n",
            "block1_pool (MaxPooling2D)   (None, 112, 112, 64)      0         \n",
            "_________________________________________________________________\n",
            "block2_conv1 (Conv2D)        (None, 112, 112, 128)     73856     \n",
            "_________________________________________________________________\n",
            "block2_conv2 (Conv2D)        (None, 112, 112, 128)     147584    \n",
            "_________________________________________________________________\n",
            "block2_pool (MaxPooling2D)   (None, 56, 56, 128)       0         \n",
            "_________________________________________________________________\n",
            "block3_conv1 (Conv2D)        (None, 56, 56, 256)       295168    \n",
            "_________________________________________________________________\n",
            "block3_conv2 (Conv2D)        (None, 56, 56, 256)       590080    \n",
            "_________________________________________________________________\n",
            "block3_conv3 (Conv2D)        (None, 56, 56, 256)       590080    \n",
            "_________________________________________________________________\n",
            "block3_pool (MaxPooling2D)   (None, 28, 28, 256)       0         \n",
            "_________________________________________________________________\n",
            "block4_conv1 (Conv2D)        (None, 28, 28, 512)       1180160   \n",
            "_________________________________________________________________\n",
            "block4_conv2 (Conv2D)        (None, 28, 28, 512)       2359808   \n",
            "_________________________________________________________________\n",
            "block4_conv3 (Conv2D)        (None, 28, 28, 512)       2359808   \n",
            "_________________________________________________________________\n",
            "block4_pool (MaxPooling2D)   (None, 14, 14, 512)       0         \n",
            "_________________________________________________________________\n",
            "block5_conv1 (Conv2D)        (None, 14, 14, 512)       2359808   \n",
            "_________________________________________________________________\n",
            "block5_conv2 (Conv2D)        (None, 14, 14, 512)       2359808   \n",
            "_________________________________________________________________\n",
            "block5_conv3 (Conv2D)        (None, 14, 14, 512)       2359808   \n",
            "_________________________________________________________________\n",
            "block5_pool (MaxPooling2D)   (None, 7, 7, 512)         0         \n",
            "_________________________________________________________________\n",
            "flatten (Flatten)            (None, 25088)             0         \n",
            "_________________________________________________________________\n",
            "fc1 (Dense)                  (None, 4096)              102764544 \n",
            "_________________________________________________________________\n",
            "fc2 (Dense)                  (None, 4096)              16781312  \n",
            "_________________________________________________________________\n",
            "predictions (Dense)          (None, 1000)              4097000   \n",
            "=================================================================\n",
            "Total params: 138,357,544\n",
            "Trainable params: 138,357,544\n",
            "Non-trainable params: 0\n",
            "_________________________________________________________________\n"
          ],
          "name": "stdout"
        }
      ]
    },
    {
      "cell_type": "code",
      "metadata": {
        "id": "rMV-39b4HtUn",
        "colab_type": "code",
        "colab": {}
      },
      "source": [
        "m2 = VGG16(include_top=False,weights = 'imagenet',input_shape=(400,400,3))"
      ],
      "execution_count": null,
      "outputs": []
    },
    {
      "cell_type": "code",
      "metadata": {
        "id": "7TerfivjH1TH",
        "colab_type": "code",
        "colab": {
          "base_uri": "https://localhost:8080/",
          "height": 815
        },
        "outputId": "6f9e2318-a432-4efc-d781-502b9fbf2e0f"
      },
      "source": [
        "m2.summary()"
      ],
      "execution_count": null,
      "outputs": [
        {
          "output_type": "stream",
          "text": [
            "Model: \"vgg16\"\n",
            "_________________________________________________________________\n",
            "Layer (type)                 Output Shape              Param #   \n",
            "=================================================================\n",
            "input_79 (InputLayer)        [(None, 400, 400, 3)]     0         \n",
            "_________________________________________________________________\n",
            "block1_conv1 (Conv2D)        (None, 400, 400, 64)      1792      \n",
            "_________________________________________________________________\n",
            "block1_conv2 (Conv2D)        (None, 400, 400, 64)      36928     \n",
            "_________________________________________________________________\n",
            "block1_pool (MaxPooling2D)   (None, 200, 200, 64)      0         \n",
            "_________________________________________________________________\n",
            "block2_conv1 (Conv2D)        (None, 200, 200, 128)     73856     \n",
            "_________________________________________________________________\n",
            "block2_conv2 (Conv2D)        (None, 200, 200, 128)     147584    \n",
            "_________________________________________________________________\n",
            "block2_pool (MaxPooling2D)   (None, 100, 100, 128)     0         \n",
            "_________________________________________________________________\n",
            "block3_conv1 (Conv2D)        (None, 100, 100, 256)     295168    \n",
            "_________________________________________________________________\n",
            "block3_conv2 (Conv2D)        (None, 100, 100, 256)     590080    \n",
            "_________________________________________________________________\n",
            "block3_conv3 (Conv2D)        (None, 100, 100, 256)     590080    \n",
            "_________________________________________________________________\n",
            "block3_pool (MaxPooling2D)   (None, 50, 50, 256)       0         \n",
            "_________________________________________________________________\n",
            "block4_conv1 (Conv2D)        (None, 50, 50, 512)       1180160   \n",
            "_________________________________________________________________\n",
            "block4_conv2 (Conv2D)        (None, 50, 50, 512)       2359808   \n",
            "_________________________________________________________________\n",
            "block4_conv3 (Conv2D)        (None, 50, 50, 512)       2359808   \n",
            "_________________________________________________________________\n",
            "block4_pool (MaxPooling2D)   (None, 25, 25, 512)       0         \n",
            "_________________________________________________________________\n",
            "block5_conv1 (Conv2D)        (None, 25, 25, 512)       2359808   \n",
            "_________________________________________________________________\n",
            "block5_conv2 (Conv2D)        (None, 25, 25, 512)       2359808   \n",
            "_________________________________________________________________\n",
            "block5_conv3 (Conv2D)        (None, 25, 25, 512)       2359808   \n",
            "_________________________________________________________________\n",
            "block5_pool (MaxPooling2D)   (None, 12, 12, 512)       0         \n",
            "=================================================================\n",
            "Total params: 14,714,688\n",
            "Trainable params: 14,714,688\n",
            "Non-trainable params: 0\n",
            "_________________________________________________________________\n"
          ],
          "name": "stdout"
        }
      ]
    },
    {
      "cell_type": "code",
      "metadata": {
        "id": "v_voVyt4H8sl",
        "colab_type": "code",
        "colab": {}
      },
      "source": [
        ""
      ],
      "execution_count": null,
      "outputs": []
    }
  ]
}